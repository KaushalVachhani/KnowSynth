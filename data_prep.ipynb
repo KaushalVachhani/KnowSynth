{
 "cells": [
  {
   "cell_type": "code",
   "execution_count": 21,
   "id": "82e92a02",
   "metadata": {},
   "outputs": [
    {
     "data": {
      "text/html": [
       "<div>\n",
       "<style scoped>\n",
       "    .dataframe tbody tr th:only-of-type {\n",
       "        vertical-align: middle;\n",
       "    }\n",
       "\n",
       "    .dataframe tbody tr th {\n",
       "        vertical-align: top;\n",
       "    }\n",
       "\n",
       "    .dataframe thead th {\n",
       "        text-align: right;\n",
       "    }\n",
       "</style>\n",
       "<table border=\"1\" class=\"dataframe\">\n",
       "  <thead>\n",
       "    <tr style=\"text-align: right;\">\n",
       "      <th></th>\n",
       "      <th>ticket_id</th>\n",
       "      <th>title</th>\n",
       "      <th>description</th>\n",
       "      <th>resolution</th>\n",
       "      <th>kb_article</th>\n",
       "      <th>category</th>\n",
       "      <th>component</th>\n",
       "      <th>priority</th>\n",
       "      <th>created_at</th>\n",
       "      <th>resolved_at</th>\n",
       "      <th>status</th>\n",
       "    </tr>\n",
       "  </thead>\n",
       "  <tbody>\n",
       "    <tr>\n",
       "      <th>0</th>\n",
       "      <td>TKT-3000</td>\n",
       "      <td>Cluster Management issue in GraphX</td>\n",
       "      <td>Customer: Hi, I'm facing a cluster management ...</td>\n",
       "      <td>Issue resolved by identifying the root cause a...</td>\n",
       "      <td>Problem Statement:\\nPerformance degradation or...</td>\n",
       "      <td>Cluster Management</td>\n",
       "      <td>GraphX</td>\n",
       "      <td>Medium</td>\n",
       "      <td>2025-04-12 17:11:33</td>\n",
       "      <td>2025-04-13 20:11:33</td>\n",
       "      <td>Closed</td>\n",
       "    </tr>\n",
       "    <tr>\n",
       "      <th>1</th>\n",
       "      <td>TKT-3001</td>\n",
       "      <td>Performance issue in GraphX</td>\n",
       "      <td>Customer: Hi, I'm facing a performance issue w...</td>\n",
       "      <td>Issue resolved by identifying the root cause a...</td>\n",
       "      <td>Problem Statement:\\nPerformance degradation or...</td>\n",
       "      <td>Performance</td>\n",
       "      <td>GraphX</td>\n",
       "      <td>Medium</td>\n",
       "      <td>2025-03-10 16:28:00</td>\n",
       "      <td>2025-03-11 02:28:00</td>\n",
       "      <td>Closed</td>\n",
       "    </tr>\n",
       "    <tr>\n",
       "      <th>2</th>\n",
       "      <td>TKT-3002</td>\n",
       "      <td>Memory issue in Delta Lake</td>\n",
       "      <td>Customer: Hi, I'm facing a memory issue when u...</td>\n",
       "      <td>Issue resolved by identifying the root cause a...</td>\n",
       "      <td>Problem Statement:\\nPerformance degradation or...</td>\n",
       "      <td>Memory</td>\n",
       "      <td>Delta Lake</td>\n",
       "      <td>Medium</td>\n",
       "      <td>2025-02-13 21:51:17</td>\n",
       "      <td>2025-02-14 15:51:17</td>\n",
       "      <td>Closed</td>\n",
       "    </tr>\n",
       "    <tr>\n",
       "      <th>3</th>\n",
       "      <td>TKT-3003</td>\n",
       "      <td>Data Skew issue in MLlib</td>\n",
       "      <td>Customer: Hi, I'm facing a data skew issue whe...</td>\n",
       "      <td>Issue resolved by identifying the root cause a...</td>\n",
       "      <td>Problem Statement:\\nPerformance degradation or...</td>\n",
       "      <td>Data Skew</td>\n",
       "      <td>MLlib</td>\n",
       "      <td>High</td>\n",
       "      <td>2025-02-01 04:16:20</td>\n",
       "      <td>2025-02-03 02:16:20</td>\n",
       "      <td>Closed</td>\n",
       "    </tr>\n",
       "    <tr>\n",
       "      <th>4</th>\n",
       "      <td>TKT-3004</td>\n",
       "      <td>Execution issue in Spark Streaming</td>\n",
       "      <td>Customer: Hi, I'm facing a execution issue whe...</td>\n",
       "      <td>Issue resolved by identifying the root cause a...</td>\n",
       "      <td>Problem Statement:\\nPerformance degradation or...</td>\n",
       "      <td>Execution</td>\n",
       "      <td>Spark Streaming</td>\n",
       "      <td>Critical</td>\n",
       "      <td>2025-03-27 04:54:15</td>\n",
       "      <td>2025-03-27 16:54:15</td>\n",
       "      <td>Closed</td>\n",
       "    </tr>\n",
       "  </tbody>\n",
       "</table>\n",
       "</div>"
      ],
      "text/plain": [
       "  ticket_id                               title  \\\n",
       "0  TKT-3000  Cluster Management issue in GraphX   \n",
       "1  TKT-3001         Performance issue in GraphX   \n",
       "2  TKT-3002          Memory issue in Delta Lake   \n",
       "3  TKT-3003            Data Skew issue in MLlib   \n",
       "4  TKT-3004  Execution issue in Spark Streaming   \n",
       "\n",
       "                                         description  \\\n",
       "0  Customer: Hi, I'm facing a cluster management ...   \n",
       "1  Customer: Hi, I'm facing a performance issue w...   \n",
       "2  Customer: Hi, I'm facing a memory issue when u...   \n",
       "3  Customer: Hi, I'm facing a data skew issue whe...   \n",
       "4  Customer: Hi, I'm facing a execution issue whe...   \n",
       "\n",
       "                                          resolution  \\\n",
       "0  Issue resolved by identifying the root cause a...   \n",
       "1  Issue resolved by identifying the root cause a...   \n",
       "2  Issue resolved by identifying the root cause a...   \n",
       "3  Issue resolved by identifying the root cause a...   \n",
       "4  Issue resolved by identifying the root cause a...   \n",
       "\n",
       "                                          kb_article            category  \\\n",
       "0  Problem Statement:\\nPerformance degradation or...  Cluster Management   \n",
       "1  Problem Statement:\\nPerformance degradation or...         Performance   \n",
       "2  Problem Statement:\\nPerformance degradation or...              Memory   \n",
       "3  Problem Statement:\\nPerformance degradation or...           Data Skew   \n",
       "4  Problem Statement:\\nPerformance degradation or...           Execution   \n",
       "\n",
       "         component  priority          created_at         resolved_at  status  \n",
       "0           GraphX    Medium 2025-04-12 17:11:33 2025-04-13 20:11:33  Closed  \n",
       "1           GraphX    Medium 2025-03-10 16:28:00 2025-03-11 02:28:00  Closed  \n",
       "2       Delta Lake    Medium 2025-02-13 21:51:17 2025-02-14 15:51:17  Closed  \n",
       "3            MLlib      High 2025-02-01 04:16:20 2025-02-03 02:16:20  Closed  \n",
       "4  Spark Streaming  Critical 2025-03-27 04:54:15 2025-03-27 16:54:15  Closed  "
      ]
     },
     "execution_count": 21,
     "metadata": {},
     "output_type": "execute_result"
    }
   ],
   "source": [
    "import pandas as pd\n",
    "\n",
    "df = pd.read_json(\"data/spark_support_tickets_with_structured_kb.jsonl\", lines=True)\n",
    "df.head()"
   ]
  },
  {
   "cell_type": "code",
   "execution_count": 22,
   "id": "945aae26",
   "metadata": {},
   "outputs": [
    {
     "name": "stdout",
     "output_type": "stream",
     "text": [
      "Customer: Hi, I'm facing a cluster management issue when using GraphX. The job is taking much longer than expected.\n",
      "\n",
      "Support: Thanks for reaching out. Can you share the Spark config and job logs?\n",
      "\n",
      "Customer: Sure, attaching spark-defaults.conf and a snippet of the job logs. I also noticed a data skew in one of the stages.\n",
      "\n",
      "Support: That helps. From the logs, it looks like excessive shuffle and skewed partition sizes are the culprits. Try adjusting the partitioning and enabling adaptive execution.\n",
      "\n",
      "Customer: I applied the suggestions and performance has improved significantly.\n",
      "\n",
      "Support: Great! Let me know if anything else comes up. Closing the ticket for now.\n"
     ]
    }
   ],
   "source": [
    "print(df.iloc[0][\"description\"])"
   ]
  },
  {
   "cell_type": "code",
   "execution_count": 23,
   "id": "1e11443b",
   "metadata": {},
   "outputs": [
    {
     "name": "stdout",
     "output_type": "stream",
     "text": [
      "Problem Statement:\n",
      "Performance degradation or job failure observed while using GraphX due to cluster management.\n",
      "\n",
      "Root Cause:\n",
      "Investigation revealed issues related to cluster management, such as skewed data distribution, excessive shuffling, or misconfigured Spark parameters.\n",
      "\n",
      "Solution:\n",
      "Enabled adaptive query execution, tuned Spark configurations, and adjusted data partitioning strategy to mitigate cluster management issues. Recommended reviewing Spark job metrics and optimizing transformation logic.\n"
     ]
    }
   ],
   "source": [
    "print(df.iloc[0][\"kb_article\"])"
   ]
  },
  {
   "cell_type": "code",
   "execution_count": 24,
   "id": "4f6140ce",
   "metadata": {},
   "outputs": [
    {
     "name": "stdout",
     "output_type": "stream",
     "text": [
      "Issue resolved by identifying the root cause and applying Spark config tuning and partitioning optimization.\n"
     ]
    }
   ],
   "source": [
    "print(df.iloc[0][\"resolution\"])"
   ]
  },
  {
   "cell_type": "code",
   "execution_count": 25,
   "id": "5a57ec00",
   "metadata": {},
   "outputs": [],
   "source": [
    "def create_enhanced_input(row):\n",
    "    return (\n",
    "        f\"Subject: {row['title']}\\n\\n\"\n",
    "        \"Description:\\n\"\n",
    "        \"Below is a conversation thread between a customer and a support engineer. \"\n",
    "        \"It includes the initial problem reported by the customer, their replies, and the troubleshooting done by support.\\n\\n\"\n",
    "        f\"{row['description']}\\n\\n\"\n",
    "        f\"Resolution:\\n{row['resolution']}\"\n",
    "    )\n",
    "\n",
    "df['input_text'] = df.apply(create_enhanced_input, axis=1)\n",
    "df['target_text'] = df['kb_article']\n"
   ]
  },
  {
   "cell_type": "code",
   "execution_count": 26,
   "id": "7ff0d06b",
   "metadata": {},
   "outputs": [
    {
     "name": "stdout",
     "output_type": "stream",
     "text": [
      "Subject: Cluster Management issue in GraphX\n",
      "\n",
      "Description:\n",
      "Below is a conversation thread between a customer and a support engineer. It includes the initial problem reported by the customer, their replies, and the troubleshooting done by support.\n",
      "\n",
      "Customer: Hi, I'm facing a cluster management issue when using GraphX. The job is taking much longer than expected.\n",
      "\n",
      "Support: Thanks for reaching out. Can you share the Spark config and job logs?\n",
      "\n",
      "Customer: Sure, attaching spark-defaults.conf and a snippet of the job logs. I also noticed a data skew in one of the stages.\n",
      "\n",
      "Support: That helps. From the logs, it looks like excessive shuffle and skewed partition sizes are the culprits. Try adjusting the partitioning and enabling adaptive execution.\n",
      "\n",
      "Customer: I applied the suggestions and performance has improved significantly.\n",
      "\n",
      "Support: Great! Let me know if anything else comes up. Closing the ticket for now.\n",
      "\n",
      "Resolution:\n",
      "Issue resolved by identifying the root cause and applying Spark config tuning and partitioning optimization.\n",
      "----------------------------------\n",
      "Problem Statement:\n",
      "Performance degradation or job failure observed while using GraphX due to cluster management.\n",
      "\n",
      "Root Cause:\n",
      "Investigation revealed issues related to cluster management, such as skewed data distribution, excessive shuffling, or misconfigured Spark parameters.\n",
      "\n",
      "Solution:\n",
      "Enabled adaptive query execution, tuned Spark configurations, and adjusted data partitioning strategy to mitigate cluster management issues. Recommended reviewing Spark job metrics and optimizing transformation logic.\n"
     ]
    }
   ],
   "source": [
    "# Now the dataset has two columns: input_text, target_text\n",
    "# This is the format you can use to fine-tune a seq2seq or instruction-tuned model\n",
    "print(df.iloc[0][\"input_text\"])\n",
    "print(\"----------------------------------\")\n",
    "print(df.iloc[0][\"target_text\"])"
   ]
  },
  {
   "cell_type": "code",
   "execution_count": null,
   "id": "b1b7461a",
   "metadata": {},
   "outputs": [],
   "source": []
  }
 ],
 "metadata": {
  "kernelspec": {
   "display_name": ".venv",
   "language": "python",
   "name": "python3"
  },
  "language_info": {
   "codemirror_mode": {
    "name": "ipython",
    "version": 3
   },
   "file_extension": ".py",
   "mimetype": "text/x-python",
   "name": "python",
   "nbconvert_exporter": "python",
   "pygments_lexer": "ipython3",
   "version": "3.11.9"
  }
 },
 "nbformat": 4,
 "nbformat_minor": 5
}
