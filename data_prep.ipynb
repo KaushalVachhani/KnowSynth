{
 "cells": [
  {
   "cell_type": "code",
   "execution_count": 9,
   "id": "b1b7461a",
   "metadata": {},
   "outputs": [
    {
     "name": "stdout",
     "output_type": "stream",
     "text": [
      "✅ Conversion complete. Output saved to: data/support_kb_finetuning_dataset.jsonl\n"
     ]
    }
   ],
   "source": [
    "import json\n",
    "\n",
    "def convert_to_prompt_response_format(record):\n",
    "    input_prompt = (\n",
    "        f\"Generate a Knowledge Base article from the following support ticket conversation.\\n\\n\"\n",
    "        f\"Title: {record.get('title', '')}\\n\"\n",
    "        f\"Category: {record.get('category', '')}\\n\"\n",
    "        f\"Component: {record.get('component', '')}\\n\"\n",
    "        f\"Priority: {record.get('priority', '')}\\n\\n\"\n",
    "        f\"Conversation:\\n{record.get('description', '')}\"\n",
    "    )\n",
    "    \n",
    "    return {\n",
    "        \"input\": input_prompt.strip(),\n",
    "        \"output\": record.get(\"kb_article\", \"\").strip()\n",
    "    }\n",
    "\n",
    "def process_jsonl(input_file_path, output_file_path):\n",
    "    with open(input_file_path, 'r', encoding='utf-8') as infile, \\\n",
    "         open(output_file_path, 'w', encoding='utf-8') as outfile:\n",
    "        for line in infile:\n",
    "            record = json.loads(line)\n",
    "            converted = convert_to_prompt_response_format(record)\n",
    "            json.dump(converted, outfile)\n",
    "            outfile.write('\\n')\n",
    "\n",
    "input_path = \"data/spark_support_tickets_with_structured_kb.jsonl\"      # Change to your input file\n",
    "output_path = \"data/support_kb_finetuning_dataset.jsonl\"  # Change to desired output file\n",
    "process_jsonl(input_path, output_path)\n",
    "print(f\"✅ Conversion complete. Output saved to: {output_path}\")\n"
   ]
  },
  {
   "cell_type": "code",
   "execution_count": 10,
   "id": "a16f95d9",
   "metadata": {},
   "outputs": [
    {
     "name": "stderr",
     "output_type": "stream",
     "text": [
      "/Users/kaushalvachhani/Github-Repos/KnowSynth/.venv/lib/python3.11/site-packages/tqdm/auto.py:21: TqdmWarning: IProgress not found. Please update jupyter and ipywidgets. See https://ipywidgets.readthedocs.io/en/stable/user_install.html\n",
      "  from .autonotebook import tqdm as notebook_tqdm\n",
      "Generating train split: 100 examples [00:00, 34083.41 examples/s]\n"
     ]
    }
   ],
   "source": [
    "from datasets import load_dataset\n",
    "\n",
    "dataset = load_dataset(\"json\", data_files=output_path, split=\"train\")"
   ]
  },
  {
   "cell_type": "code",
   "execution_count": 11,
   "id": "b8e7bd53",
   "metadata": {},
   "outputs": [
    {
     "name": "stderr",
     "output_type": "stream",
     "text": [
      "Creating parquet from Arrow format: 100%|██████████| 1/1 [00:00<00:00, 617.26ba/s]\n",
      "Uploading the dataset shards: 100%|██████████| 1/1 [00:03<00:00,  3.79s/it]\n"
     ]
    },
    {
     "data": {
      "text/plain": [
       "CommitInfo(commit_url='https://huggingface.co/datasets/KaushalVachhani/support-kb-finetuning-dataset/commit/b114dd301f180391550205b22b68baf86fbc2d94', commit_message='Upload dataset', commit_description='', oid='b114dd301f180391550205b22b68baf86fbc2d94', pr_url=None, repo_url=RepoUrl('https://huggingface.co/datasets/KaushalVachhani/support-kb-finetuning-dataset', endpoint='https://huggingface.co', repo_type='dataset', repo_id='KaushalVachhani/support-kb-finetuning-dataset'), pr_revision=None, pr_num=None)"
      ]
     },
     "execution_count": 11,
     "metadata": {},
     "output_type": "execute_result"
    }
   ],
   "source": [
    "dataset.push_to_hub(\"KaushalVachhani/support-kb-finetuning-dataset\")"
   ]
  }
 ],
 "metadata": {
  "kernelspec": {
   "display_name": ".venv",
   "language": "python",
   "name": "python3"
  },
  "language_info": {
   "codemirror_mode": {
    "name": "ipython",
    "version": 3
   },
   "file_extension": ".py",
   "mimetype": "text/x-python",
   "name": "python",
   "nbconvert_exporter": "python",
   "pygments_lexer": "ipython3",
   "version": "3.11.9"
  }
 },
 "nbformat": 4,
 "nbformat_minor": 5
}
